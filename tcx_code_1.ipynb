{
 "cells": [
  {
   "cell_type": "code",
   "execution_count": null,
   "id": "10beee77",
   "metadata": {},
   "outputs": [],
   "source": [
    "# import elementpath\n",
    "from xml.etree import ElementTree as ET\n",
    "\n",
    "file1 = \"./data/Afternoon_Walk1sur2.tcx\"\n",
    "file2 = \"./data/Afternoon_Walk2sur2.tcx\"\n",
    "\n",
    "\n",
    "# Parse TCX files\n",
    "tree1 = ET.parse(file1)\n",
    "root1 = tree1.getroot()\n",
    "tree2 = ET.parse(file2)\n",
    "root2 = tree2.getroot()\n",
    "\n",
    "# Define the namespaces\n",
    "ns = {'tcx': 'http://www.garmin.com/xmlschemas/TrainingCenterDatabase/v2',\n",
    "      'xsi': 'http://www.w3.org/2001/XMLSchema-instance',\n",
    "      'ns2': 'http://www.garmin.com/xmlschemas/UserProfile/v2',\n",
    "      'ns3': 'http://www.garmin.com/xmlschemas/ActivityExtension/v2',\n",
    "      'ns4': 'http://www.garmin.com/xmlschemas/ProfileExtension/v1',\n",
    "      'ns5': 'http://www.garmin.com/xmlschemas/ActivityGoals/v1' }\n",
    "\n",
    "# Find the lap element\n",
    "first_file_laps = []\n",
    "for activity in root1.findall('tcx:Activities/tcx:Activity', ns):\n",
    "    for lap  in activity.findall('tcx:Lap', ns):\n",
    "        if lap:\n",
    "            first_file_laps.append(lap)\n",
    "\n",
    "\n",
    "activityNode = root1.find('tcx:Activities/tcx:Activity', ns)\n",
    "\n",
    "second_file_laps = []\n",
    "for activity in root2.findall('tcx:Activities/tcx:Activity', ns):\n",
    "    for lap in activity.findall('tcx:Lap', ns):\n",
    "        if lap:\n",
    "            second_file_laps.append(lap)\n",
    "            activityNode.append(lap)\n",
    "            \n",
    "            \n",
    "tree1.write(\"Merged1.tcx\", encoding=\"UTF-8\", xml_declaration=True)"
   ]
  },
  {
   "cell_type": "code",
   "execution_count": 1,
   "id": "08257923",
   "metadata": {},
   "outputs": [],
   "source": [
    "# import elementpath\n",
    "from xml.etree import ElementTree as ET\n",
    "\n",
    "file1 = \"./data/Afternoon_Walk1sur2.tcx\"\n",
    "file2 = \"./data/Afternoon_Walk2sur2.tcx\"\n",
    "\n",
    "\n",
    "# Parse TCX files\n",
    "tree1 = ET.parse(file1)\n",
    "root1 = tree1.getroot()\n",
    "tree2 = ET.parse(file2)\n",
    "root2 = tree2.getroot()\n",
    "\n",
    "# Define the namespaces\n",
    "ns = {'tcx': 'http://www.garmin.com/xmlschemas/TrainingCenterDatabase/v2',\n",
    "      'xsi': 'http://www.w3.org/2001/XMLSchema-instance',\n",
    "      'ns2': 'http://www.garmin.com/xmlschemas/UserProfile/v2',\n",
    "      'ns3': 'http://www.garmin.com/xmlschemas/ActivityExtension/v2',\n",
    "      'ns4': 'http://www.garmin.com/xmlschemas/ProfileExtension/v1',\n",
    "      'ns5': 'http://www.garmin.com/xmlschemas/ActivityGoals/v1' }\n",
    "\n",
    "# Find the lap element\n",
    "first_file_laps = []\n",
    "for activity in root1.findall('tcx:Activities/tcx:Activity', ns):\n",
    "    for lap  in activity.findall('tcx:Lap', ns):\n",
    "        if lap:\n",
    "            first_file_laps.append(lap)\n",
    "\n",
    "\n",
    "activityNode = root1.find('tcx:Activities/tcx:Activity', ns)\n",
    "\n",
    "second_file_laps = []\n",
    "for activity in root2.findall('tcx:Activities/tcx:Activity', ns):\n",
    "    for lap in activity.findall('tcx:Lap', ns):\n",
    "        if lap:\n",
    "            second_file_laps.append(lap)\n",
    "            activityNode.append(lap)\n",
    "            \n",
    "            \n",
    "# Remove the ns0 namespace prefix\n",
    "ET.register_namespace('', 'http://www.garmin.com/xmlschemas/TrainingCenterDatabase/v2')\n",
    "ET.register_namespace('xsi', 'http://www.w3.org/2001/XMLSchema-instance')\n",
    "ET.register_namespace('tc2', 'http://www.garmin.com/xmlschemas/UserProfile/v2')\n",
    "ET.register_namespace('tc3', 'http://www.garmin.com/xmlschemas/ActivityExtension/v2')\n",
    "ET.register_namespace('tc4', 'http://www.garmin.com/xmlschemas/ProfileExtension/v1')\n",
    "ET.register_namespace('tc5', 'http://www.garmin.com/xmlschemas/ActivityGoals/v1')\n",
    "\n",
    "\n",
    "tree1.write(\"Merged2.tcx\", encoding=\"UTF-8\", xml_declaration=False, default_namespace='')"
   ]
  },
  {
   "cell_type": "code",
   "execution_count": null,
   "id": "a0944137",
   "metadata": {},
   "outputs": [],
   "source": []
  },
  {
   "cell_type": "code",
   "execution_count": null,
   "id": "edd5788c",
   "metadata": {},
   "outputs": [],
   "source": []
  },
  {
   "cell_type": "code",
   "execution_count": null,
   "id": "458daf22",
   "metadata": {},
   "outputs": [],
   "source": []
  },
  {
   "cell_type": "code",
   "execution_count": null,
   "id": "e6969a49",
   "metadata": {},
   "outputs": [],
   "source": []
  },
  {
   "cell_type": "code",
   "execution_count": null,
   "id": "69e0160e",
   "metadata": {},
   "outputs": [],
   "source": [
    "# import elementpath\n",
    "from xml.etree import ElementTree as ET\n",
    "\n",
    "file1 = \"./data/Afternoon_Walk1sur2.tcx\"\n",
    "file2 = \"./data/Afternoon_Walk2sur2.tcx\"\n",
    "\n",
    "\n",
    "# Parse TCX files\n",
    "tree1 = ET.parse(file1)\n",
    "root1 = tree1.getroot()\n",
    "tree2 = ET.parse(file2)\n",
    "root2 = tree2.getroot()\n",
    "\n",
    "# Define the namespaces\n",
    "ns = {'tcx': 'http://www.garmin.com/xmlschemas/TrainingCenterDatabase/v2',\n",
    "      'xsi': 'http://www.w3.org/2001/XMLSchema-instance',\n",
    "      'ns2': 'http://www.garmin.com/xmlschemas/UserProfile/v2',\n",
    "      'ns3': 'http://www.garmin.com/xmlschemas/ActivityExtension/v2',\n",
    "      'ns4': 'http://www.garmin.com/xmlschemas/ProfileExtension/v1',\n",
    "      'ns5': 'http://www.garmin.com/xmlschemas/ActivityGoals/v1' }\n",
    "\n",
    "activityNode = root1.find('tcx:Activities/tcx:Activity', ns)\n",
    "\n",
    "for activity in root2.findall('tcx:Activities/tcx:Activity', ns):\n",
    "    for acti in activity.findall('tcx:Lap', ns):\n",
    "        print(acti)\n",
    "        activityNode.append(acti)\n",
    "\n",
    "# Write the updated TCX file\n",
    "tree1.write(\"Merged_tcx_file.tcx\", encoding=\"UTF-8\", xml_declaration=True)"
   ]
  },
  {
   "cell_type": "code",
   "execution_count": null,
   "id": "2f0c14bc",
   "metadata": {},
   "outputs": [],
   "source": [
    "activityNode = root1.find('tcx:Activities/tcx:Activity', ns)\n",
    "last_lap = root1.find('.//tcx:Lap[last()]', ns)"
   ]
  },
  {
   "cell_type": "code",
   "execution_count": null,
   "id": "dbb8ab1c",
   "metadata": {},
   "outputs": [],
   "source": [
    "last_lap"
   ]
  },
  {
   "cell_type": "code",
   "execution_count": null,
   "id": "288bc2f2",
   "metadata": {},
   "outputs": [],
   "source": []
  },
  {
   "cell_type": "code",
   "execution_count": null,
   "id": "4b5d0b81",
   "metadata": {},
   "outputs": [],
   "source": []
  },
  {
   "cell_type": "code",
   "execution_count": null,
   "id": "147489e7",
   "metadata": {},
   "outputs": [],
   "source": [
    "for lap in root2.findall('.//tcx:Lap', ns):\n",
    "    new_lap = ET.Element('Lap', attrib=lap.attrib)\n",
    "    for track in lap.findall('.//tcx:Trackpoint', ns):\n",
    "        new_lap.append(track)\n",
    "    last_lap.append(new_lap)"
   ]
  },
  {
   "cell_type": "code",
   "execution_count": null,
   "id": "6cce1964",
   "metadata": {},
   "outputs": [],
   "source": [
    "tree1.write(\"Merged_tcx_file.tcx\", encoding=\"UTF-8\", xml_declaration=True)"
   ]
  },
  {
   "cell_type": "code",
   "execution_count": null,
   "id": "32694dbd",
   "metadata": {},
   "outputs": [],
   "source": [
    "activityNode = root1.find('tcx:Activities/tcx:Activity', ns)"
   ]
  },
  {
   "cell_type": "code",
   "execution_count": null,
   "id": "39256f85",
   "metadata": {},
   "outputs": [],
   "source": [
    "for acti in activityNode:\n",
    "    print(acti)"
   ]
  },
  {
   "cell_type": "code",
   "execution_count": null,
   "id": "7471b31f",
   "metadata": {},
   "outputs": [],
   "source": [
    "# Write the updated TCX file\n",
    "tree1.write(\"updated_tcx_file.tcx\", encoding=\"UTF-8\", xml_declaration=True)"
   ]
  },
  {
   "cell_type": "code",
   "execution_count": null,
   "id": "3e84b42e",
   "metadata": {},
   "outputs": [],
   "source": [
    "# Find the lap element\n",
    "first_file_laps = []\n",
    "for activity in root1.findall('tcx:Activities/tcx:Activity', ns):\n",
    "    for lap  in activity.findall('tcx:Lap', ns):\n",
    "        if lap:\n",
    "            first_file_laps.append(lap)\n",
    "\n",
    "second_file_laps = []\n",
    "for activity in root2.findall('tcx:Activities/tcx:Activity', ns):\n",
    "    for lap in activity.findall('tcx:Lap', ns):\n",
    "        if lap:\n",
    "            second_file_laps.append(lap)"
   ]
  },
  {
   "cell_type": "code",
   "execution_count": null,
   "id": "4432fe71",
   "metadata": {},
   "outputs": [],
   "source": [
    "# Find the activity element\n",
    "for activity in root1.findall('tcx:Activities/tcx:Activity', ns):\n",
    "    sport = (activity.get('Sport'))\n"
   ]
  },
  {
   "cell_type": "code",
   "execution_count": null,
   "id": "c948d04e",
   "metadata": {},
   "outputs": [],
   "source": [
    "activity1 = root1.find('tcx:Activities/tcx:Activity', ns)\n",
    "list(enumerate(activity1))"
   ]
  },
  {
   "cell_type": "code",
   "execution_count": null,
   "id": "33b1187a",
   "metadata": {
    "scrolled": false
   },
   "outputs": [],
   "source": [
    "activity2 = root2.find('tcx:Activities/tcx:Activity', ns)\n",
    "# actest = activity2\n",
    "list(enumerate(activity2))\n"
   ]
  },
  {
   "cell_type": "code",
   "execution_count": null,
   "id": "cec0df9b",
   "metadata": {},
   "outputs": [],
   "source": [
    "print(len(activity2))\n",
    "# print(activity2[1:len(activity2)])\n",
    "a = activity2[2:len(activity2)-2]\n",
    "list(enumerate(a))"
   ]
  },
  {
   "cell_type": "code",
   "execution_count": null,
   "id": "6c770194",
   "metadata": {},
   "outputs": [],
   "source": [
    "a = ['1', '2', '3', '4']\n",
    "b = a[1:3]\n",
    "print(b)"
   ]
  },
  {
   "cell_type": "code",
   "execution_count": null,
   "id": "984839f4",
   "metadata": {},
   "outputs": [],
   "source": [
    "for activity in root1.findall('tcx:Activities/tcx:Activity/tcx:Lap', ns):\n",
    "    print(activity)"
   ]
  },
  {
   "cell_type": "code",
   "execution_count": null,
   "id": "3fb678cf",
   "metadata": {},
   "outputs": [],
   "source": [
    "actest = root2.findall('tcx:Activities/tcx:Activity/tcx:Lap', ns)\n",
    "list(enumerate(actest))"
   ]
  },
  {
   "cell_type": "code",
   "execution_count": null,
   "id": "65ddcf78",
   "metadata": {},
   "outputs": [],
   "source": [
    "import xml.etree.ElementTree as ET\n",
    "\n",
    "# Parse the TCX file\n",
    "tree = ET.parse(\"existing_tcx_file.tcx\")\n",
    "root = tree.getroot()\n",
    "\n",
    "# Find the activity element\n",
    "activity = root.find(\"tcx:Activities/tcx:Activity', ns\")\n",
    "\n",
    "# Create a new lap element\n",
    "lap = ET.Element(\"Lap\")\n",
    "lap.set(\"StartTime\", \"2023-05-01T12:00:00.000Z\")\n",
    "\n",
    "# Add lap data\n",
    "total_time_seconds = ET.SubElement(lap, \"TotalTimeSeconds\")\n",
    "total_time_seconds.text = \"1200.0\"\n",
    "\n",
    "distance_meters = ET.SubElement(lap, \"DistanceMeters\")\n",
    "distance_meters.text = \"5000.0\"\n",
    "\n",
    "maximum_speed = ET.SubElement(lap, \"MaximumSpeed\")\n",
    "maximum_speed.text = \"5.0\"\n",
    "\n",
    "calories = ET.SubElement(lap, \"Calories\")\n",
    "calories.text = \"200\"\n",
    "\n",
    "average_heart_rate_bpm = ET.SubElement(lap, \"AverageHeartRateBpm\")\n",
    "value = ET.SubElement(average_heart_rate_bpm, \"Value\")\n",
    "value.text = \"120\"\n",
    "\n",
    "maximum_heart_rate_bpm = ET.SubElement(lap, \"MaximumHeartRateBpm\")\n",
    "value = ET.SubElement(maximum_heart_rate_bpm, \"Value\")\n",
    "value.text = \"140\"\n",
    "\n",
    "intensity = ET.SubElement(lap, \"Intensity\")\n",
    "intensity.text = \"Active\"\n",
    "\n",
    "trigger_method = ET.SubElement(lap, \"TriggerMethod\")\n",
    "trigger_method.text = \"Manual\"\n",
    "\n",
    "track = ET.SubElement(lap, \"Track\")\n",
    "trackpoint = ET.SubElement(track, \"Trackpoint\")\n",
    "time = ET.SubElement(trackpoint, \"Time\")\n",
    "time.text = \"2023-05-01T12:00:00.000Z\"\n",
    "\n",
    "# Append the lap to the activity element\n",
    "activity.append(lap)\n",
    "\n",
    "# Write the updated TCX file\n",
    "tree.write(\"updated_tcx_file.tcx\", encoding=\"UTF-8\", xml_declaration=True)\n"
   ]
  },
  {
   "cell_type": "code",
   "execution_count": null,
   "id": "019c01be",
   "metadata": {},
   "outputs": [],
   "source": [
    "# Create a new TCX file with the lap element\n",
    "new_root = ET.Element(\"TrainingCenterDatabase\")\n",
    "activities = ET.SubElement(new_root, \"Activities\")\n",
    "activity = ET.SubElement(activities, \"Activity\", {\"Sport\": \"Other\"})\n",
    "activity.append(laps)\n",
    "\n",
    "# Write the new TCX file to disk\n",
    "ET.ElementTree(new_root).write(\"new_file.tcx\", encoding='utf-8', xml_declaration=True)"
   ]
  },
  {
   "cell_type": "code",
   "execution_count": null,
   "id": "8527412e",
   "metadata": {},
   "outputs": [],
   "source": [
    "# Find the last <Lap> element in the first file\n",
    "laps1 = root1.findall('.//Lap')\n",
    "last_lap1 = laps1[-1]\n",
    "\n",
    "# Parse the second TCX file\n",
    "tree2 = ET.parse('second_activity.tcx')\n",
    "root2 = tree2.getroot()\n",
    "\n",
    "# Extract all <Lap> elements from the second file\n",
    "laps2 = root2.findall('.//Lap')\n",
    "\n",
    "# Append each <Lap> element to the first file's <Activity> element\n",
    "for lap in laps2:\n",
    "    last_lap1.append(lap)\n",
    "\n",
    "# Write the modified ElementTree to a new TCX file\n",
    "tree1.write('merged_activity.tcx', xml_declaration=True, encoding='UTF-8', method=\"xml\")"
   ]
  },
  {
   "cell_type": "code",
   "execution_count": null,
   "id": "78bedc4c",
   "metadata": {},
   "outputs": [],
   "source": [
    "for activity in root.findall('tcx:Activities/tcx:Activity', ns):\n",
    "    sport = activity.get('Sport')"
   ]
  },
  {
   "cell_type": "code",
   "execution_count": null,
   "id": "31d91fb9",
   "metadata": {},
   "outputs": [],
   "source": [
    "sport"
   ]
  },
  {
   "cell_type": "code",
   "execution_count": null,
   "id": "be6b3270",
   "metadata": {},
   "outputs": [],
   "source": [
    "for activity in root.findall('tcx:Activities/tcx:Activity', ns):\n",
    "    sport = activity.get('Sport')\n",
    "    for lap in activity.findall('tcx:Lap', ns):\n",
    "        print(lap)"
   ]
  },
  {
   "cell_type": "code",
   "execution_count": null,
   "id": "d7dcb41e",
   "metadata": {
    "scrolled": true
   },
   "outputs": [],
   "source": [
    "for activity in root.findall('tcx:Activities/tcx:Activity', ns):\n",
    "    sport = activity.get('Sport')\n",
    "    for lap in activity.findall('tcx:Lap', ns):\n",
    "        print(lap)\n",
    "        lap_start_time = lap.get('StartTime')\n",
    "        lap_total_time_seconds = lap.find('tcx:TotalTimeSeconds', ns).text\n",
    "        lap_distance_meters = lap.find('tcx:DistanceMeters', ns).text\n",
    "        lap_max_speed = lap.find('tcx:MaximumSpeed', ns).text\n",
    "        lap_calories = lap.find('tcx:Calories', ns).text\n",
    "        lap_avg_hr = lap.find('tcx:AverageHeartRateBpm/tcx:Value', ns).text\n",
    "        lap_max_hr = lap.find('tcx:MaximumHeartRateBpm/tcx:Value', ns).text\n",
    "        lap_intensity = lap.find('tcx:Intensity', ns).text\n",
    "        lap_trigger_method = lap.find('tcx:TriggerMethod', ns).text\n",
    "        for trackpoint in lap.findall('tcx:Track/tcx:Trackpoint', ns):\n",
    "            tp_time = trackpoint.find('tcx:Time', ns).text\n",
    "            tp_altitude = trackpoint.find('tcx:AltitudeMeters', ns).text\n",
    "            tp_distance = trackpoint.find('tcx:DistanceMeters', ns).text\n",
    "            tp_heart_rate = trackpoint.find('tcx:HeartRateBpm/tcx:Value', ns).text\n",
    "            # tp_speed = trackpoint.find('tcx:Speed', ns).text\n",
    "            # print(f\"Sport: {sport}, Lap Start Time: {lap_start_time}, Lap Total Time Seconds: {lap_total_time_seconds}, Lap Distance Meters: {lap_distance_meters}, Lap Max Speed: {lap_max_speed}, Lap Calories: {lap_calories}, Lap Avg HR: {lap_avg_hr}, Lap Max HR: {lap_max_hr}, Lap Intensity: {lap_intensity}, Lap Trigger Method: {lap_trigger_method}, Trackpoint Time: {tp_time}, Trackpoint Altitude: {tp_altitude}, Trackpoint Distance: {tp_distance}, Trackpoint Heart Rate: {tp_heart_rate}, Trackpoint Speed: {tp_speed}\")\n",
    "            \n",
    "    print(f\"Sport: {sport}, Lap Start Time: {lap_start_time}, Lap Total Time Seconds: {lap_total_time_seconds}, Lap Distance Meters: {lap_distance_meters}, Lap Max Speed: {lap_max_speed}, Lap Calories: {lap_calories}, Lap Avg HR: {lap_avg_hr}, Lap Max HR: {lap_max_hr}, Lap Intensity: {lap_intensity}, Lap Trigger Method: {lap_trigger_method}, Trackpoint Time: {tp_time}, Trackpoint Altitude: {tp_altitude}, Trackpoint Distance: {tp_distance}, Trackpoint Heart Rate: {tp_heart_rate}\")"
   ]
  },
  {
   "cell_type": "code",
   "execution_count": null,
   "id": "193ba3d8",
   "metadata": {},
   "outputs": [],
   "source": [
    "## <Position>\n",
    "  <LatitudeDegrees>43.33347757346928</LatitudeDegrees>\n",
    "  <LongitudeDegrees>5.1966555789113045</LongitudeDegrees>\n",
    "</Position>\n",
    "<HeartRateBpm>\n",
    "  <Value>91</Value>\n",
    "</HeartRateBpm>\n",
    "<Extensions>\n",
    "  <ns3:TPX>\n",
    "    <ns3:Speed>1.399999976158142</ns3:Speed>\n",
    "  </ns3:TPX>\n",
    "</Extensions>"
   ]
  },
  {
   "cell_type": "code",
   "execution_count": null,
   "id": "6c200423",
   "metadata": {},
   "outputs": [],
   "source": [
    "laps1 = root1.find('tcx:Activities/tcx:Activity/tcx:Lap', ns)\n",
    "print(laps1)"
   ]
  },
  {
   "cell_type": "code",
   "execution_count": null,
   "id": "455142be",
   "metadata": {},
   "outputs": [],
   "source": [
    "# Parse the second TCX file\n",
    "tree = ET.parse(file2)\n",
    "root = tree2.getroot()\n",
    "\n",
    "# Extract all <Lap> elements from the second file\n",
    "laps2 = root2.findall('.//Lap')"
   ]
  },
  {
   "cell_type": "code",
   "execution_count": null,
   "id": "01ee92f7",
   "metadata": {},
   "outputs": [],
   "source": [
    "\n",
    "# Append each <Lap> element to the first file's <Activity> element\n",
    "for lap in laps2:\n",
    "    last_lap1.append(lap)\n",
    "\n",
    "# Write the modified ElementTree to a new TCX file\n",
    "tree1.write('merged_activity.tcx', xml_declaration=True, encoding='UTF-8', method=\"xml\")\n"
   ]
  },
  {
   "cell_type": "code",
   "execution_count": null,
   "id": "6eed9c65",
   "metadata": {},
   "outputs": [],
   "source": [
    "root1 = tree1.getroot()\n",
    "ET.dump(root1)"
   ]
  },
  {
   "cell_type": "code",
   "execution_count": null,
   "id": "01d67cd8",
   "metadata": {},
   "outputs": [],
   "source": [
    "for actor in root.findall('{http://people.example.com}actor'):\n",
    "    name = actor.find('{http://people.example.com}name')\n",
    "    print(name.text)\n",
    "    for char in actor.findall('{http://characters.example.com}character'):\n",
    "        print(' |-->', char.text)\n"
   ]
  },
  {
   "cell_type": "code",
   "execution_count": null,
   "id": "4aa286f8",
   "metadata": {},
   "outputs": [],
   "source": []
  },
  {
   "cell_type": "code",
   "execution_count": null,
   "id": "f2c07303",
   "metadata": {},
   "outputs": [],
   "source": [
    "ET.dump(root)"
   ]
  }
 ],
 "metadata": {
  "kernelspec": {
   "display_name": "Python 3 (ipykernel)",
   "language": "python",
   "name": "python3"
  },
  "language_info": {
   "codemirror_mode": {
    "name": "ipython",
    "version": 3
   },
   "file_extension": ".py",
   "mimetype": "text/x-python",
   "name": "python",
   "nbconvert_exporter": "python",
   "pygments_lexer": "ipython3",
   "version": "3.9.2"
  }
 },
 "nbformat": 4,
 "nbformat_minor": 5
}
