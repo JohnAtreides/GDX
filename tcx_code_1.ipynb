{
 "cells": [
  {
   "cell_type": "code",
   "execution_count": 1,
   "id": "ba63b3a3",
   "metadata": {},
   "outputs": [
    {
     "name": "stdout",
     "output_type": "stream",
     "text": [
      "Collecting pipreqs\n",
      "  Downloading pipreqs-0.4.13-py2.py3-none-any.whl (33 kB)\n",
      "Collecting docopt (from pipreqs)\n",
      "  Downloading docopt-0.6.2.tar.gz (25 kB)\n",
      "  Preparing metadata (setup.py) ... \u001b[?25ldone\n",
      "\u001b[?25hCollecting yarg (from pipreqs)\n",
      "  Downloading yarg-0.1.9-py2.py3-none-any.whl (19 kB)\n",
      "Requirement already satisfied: requests in /Users/johnatreides/miniforge3/lib/python3.9/site-packages (from yarg->pipreqs) (2.25.1)\n",
      "Requirement already satisfied: chardet<5,>=3.0.2 in /Users/johnatreides/miniforge3/lib/python3.9/site-packages (from requests->yarg->pipreqs) (3.0.4)\n",
      "Requirement already satisfied: idna<3,>=2.5 in /Users/johnatreides/miniforge3/lib/python3.9/site-packages (from requests->yarg->pipreqs) (2.10)\n",
      "Requirement already satisfied: urllib3<1.27,>=1.21.1 in /Users/johnatreides/miniforge3/lib/python3.9/site-packages (from requests->yarg->pipreqs) (1.26.4)\n",
      "Requirement already satisfied: certifi>=2017.4.17 in /Users/johnatreides/miniforge3/lib/python3.9/site-packages (from requests->yarg->pipreqs) (2021.10.8)\n",
      "Building wheels for collected packages: docopt\n",
      "  Building wheel for docopt (setup.py) ... \u001b[?25ldone\n",
      "\u001b[?25h  Created wheel for docopt: filename=docopt-0.6.2-py2.py3-none-any.whl size=13705 sha256=2513c0e617b7d0702be7d46ab5f6d310743175536b08d8bdec93e7f9aaa58629\n",
      "  Stored in directory: /Users/johnatreides/Library/Caches/pip/wheels/70/4a/46/1309fc853b8d395e60bafaf1b6df7845bdd82c95fd59dd8d2b\n",
      "Successfully built docopt\n",
      "Installing collected packages: docopt, yarg, pipreqs\n",
      "Successfully installed docopt-0.6.2 pipreqs-0.4.13 yarg-0.1.9\n",
      "Note: you may need to restart the kernel to use updated packages.\n"
     ]
    }
   ],
   "source": [
    "pip install pipreqs"
   ]
  },
  {
   "cell_type": "code",
   "execution_count": 12,
   "id": "1d6ed648",
   "metadata": {},
   "outputs": [
    {
     "ename": "SyntaxError",
     "evalue": "invalid syntax (168589617.py, line 1)",
     "output_type": "error",
     "traceback": [
      "\u001b[0;36m  File \u001b[0;32m\"/var/folders/ff/1f98xcwd0fndmrxqb8c42cq40000gn/T/ipykernel_24467/168589617.py\"\u001b[0;36m, line \u001b[0;32m1\u001b[0m\n\u001b[0;31m    pipreqs thx_code_1.ipynb\u001b[0m\n\u001b[0m            ^\u001b[0m\n\u001b[0;31mSyntaxError\u001b[0m\u001b[0;31m:\u001b[0m invalid syntax\n"
     ]
    }
   ],
   "source": [
    "pipreqs thx_code_1.ipynb"
   ]
  },
  {
   "cell_type": "code",
   "execution_count": null,
   "id": "363f127b",
   "metadata": {},
   "outputs": [],
   "source": [
    "import elementpath\n"
   ]
  },
  {
   "cell_type": "code",
   "execution_count": 10,
   "id": "a7cb608f",
   "metadata": {},
   "outputs": [],
   "source": [
    "from xml.etree import ElementTree as ET"
   ]
  },
  {
   "cell_type": "code",
   "execution_count": null,
   "id": "20226634",
   "metadata": {},
   "outputs": [],
   "source": [
    "tree1 = ET.parse('first_activity.tcx')"
   ]
  },
  {
   "cell_type": "code",
   "execution_count": 6,
   "id": "672d02a4",
   "metadata": {},
   "outputs": [],
   "source": [
    "from random import randint as RI"
   ]
  },
  {
   "cell_type": "code",
   "execution_count": 9,
   "id": "6e02cfe3",
   "metadata": {},
   "outputs": [
    {
     "data": {
      "text/plain": [
       "4"
      ]
     },
     "execution_count": 9,
     "metadata": {},
     "output_type": "execute_result"
    }
   ],
   "source": [
    "RI(1, 10)"
   ]
  }
 ],
 "metadata": {
  "kernelspec": {
   "display_name": "Python 3 (ipykernel)",
   "language": "python",
   "name": "python3"
  },
  "language_info": {
   "codemirror_mode": {
    "name": "ipython",
    "version": 3
   },
   "file_extension": ".py",
   "mimetype": "text/x-python",
   "name": "python",
   "nbconvert_exporter": "python",
   "pygments_lexer": "ipython3",
   "version": "3.9.2"
  }
 },
 "nbformat": 4,
 "nbformat_minor": 5
}
