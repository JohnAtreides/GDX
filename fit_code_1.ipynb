{
 "cells": [
  {
   "cell_type": "code",
   "execution_count": null,
   "metadata": {},
   "outputs": [],
   "source": [
    "import fitdecode\n",
    "import fitencode\n",
    "\n",
    "# Define the input files\n",
    "file1 = \"../data/Afternoon_Walk1sur2.fit\"\n",
    "file2 = \"../data/Afternoon_Walk2sur2.fit\"\n",
    "\n",
    "# Open the first file and get the data\n",
    "\n",
    "with fitdecode.FitReader(file1) as fit:\n",
    "    # Extract the records and messages from the file\n",
    "    records = []\n",
    "    messages = []\n",
    "    for frame in fit:\n",
    "        if isinstance(frame, fitdecode.FitDataMessage):\n",
    "            messages.append(frame)\n",
    "        elif isinstance(frame, fitdecode.FitDataRecord):\n",
    "            records.append(frame)\n",
    "\n",
    "# Open the second file and get the data\n",
    "with fitdecode.FitReader(file2) as fit:\n",
    "    # Extract the records and messages from the file\n",
    "    for frame in fit:\n",
    "        if isinstance(frame, fitdecode.FitDataMessage):\n",
    "            messages.append(frame)\n",
    "        elif isinstance(frame, fitdecode.FitDataRecord):\n",
    "            records.append(frame)\n",
    "\n",
    "# Create a new file and add the data\n",
    "with open(\"merged_activity.fit\", \"wb\") as f:\n",
    "    encoder = fitencode.FitEncoder(f)\n",
    "    for message in messages:\n",
    "        encoder.write(message)\n",
    "    for record in records:\n",
    "        encoder.write(record)\n"
   ]
  },
  {
   "cell_type": "code",
   "execution_count": 9,
   "metadata": {},
   "outputs": [
    {
     "ename": "TypeError",
     "evalue": "__init__() missing 1 required positional argument: 'fileish'",
     "output_type": "error",
     "traceback": [
      "\u001b[0;31m---------------------------------------------------------------------------\u001b[0m",
      "\u001b[0;31mTypeError\u001b[0m                                 Traceback (most recent call last)",
      "\u001b[0;32m/var/folders/ff/1f98xcwd0fndmrxqb8c42cq40000gn/T/ipykernel_20307/2598709940.py\u001b[0m in \u001b[0;36m<module>\u001b[0;34m\u001b[0m\n\u001b[1;32m     18\u001b[0m \u001b[0;34m\u001b[0m\u001b[0m\n\u001b[1;32m     19\u001b[0m \u001b[0;31m# create new output file and write merged data to file\u001b[0m\u001b[0;34m\u001b[0m\u001b[0;34m\u001b[0m\u001b[0;34m\u001b[0m\u001b[0m\n\u001b[0;32m---> 20\u001b[0;31m \u001b[0;32mwith\u001b[0m \u001b[0mfitparse\u001b[0m\u001b[0;34m.\u001b[0m\u001b[0mFitFile\u001b[0m\u001b[0;34m(\u001b[0m\u001b[0;34m)\u001b[0m \u001b[0;32mas\u001b[0m \u001b[0moutf\u001b[0m\u001b[0;34m:\u001b[0m\u001b[0;34m\u001b[0m\u001b[0;34m\u001b[0m\u001b[0m\n\u001b[0m\u001b[1;32m     21\u001b[0m     \u001b[0moutf\u001b[0m\u001b[0;34m.\u001b[0m\u001b[0madd_messages\u001b[0m\u001b[0;34m(\u001b[0m\u001b[0mmessages\u001b[0m\u001b[0;34m)\u001b[0m\u001b[0;34m\u001b[0m\u001b[0;34m\u001b[0m\u001b[0m\n\u001b[1;32m     22\u001b[0m     \u001b[0moutf\u001b[0m\u001b[0;34m.\u001b[0m\u001b[0madd_records\u001b[0m\u001b[0;34m(\u001b[0m\u001b[0mrecords\u001b[0m\u001b[0;34m)\u001b[0m\u001b[0;34m\u001b[0m\u001b[0;34m\u001b[0m\u001b[0m\n",
      "\u001b[0;31mTypeError\u001b[0m: __init__() missing 1 required positional argument: 'fileish'"
     ]
    }
   ],
   "source": [
    "import fitdecode\n",
    "import fitparse\n",
    "\n",
    "# define paths to input files\n",
    "input_file1 = \"./data/Afternoon_Walk1sur2.fit\"\n",
    "input_file2 = \"./data/Afternoon_Walk2sur2.fit\"\n",
    "\n",
    "# read data from input files and append to lists\n",
    "records = []\n",
    "messages = []\n",
    "for fitfile in [input_file1, input_file2]:\n",
    "    with fitdecode.FitReader(fitfile) as fit:\n",
    "        for frame in fit:\n",
    "            if isinstance(frame, fitdecode.FitDataMessage):\n",
    "                messages.append(frame)\n",
    "            # elif isinstance(frame, fitdecode.FitDataRecord):\n",
    "                # records.append(frame)\n",
    "\n",
    "# create new output file and write merged data to file\n",
    "with fitparse.FitFile() as outf:\n",
    "    outf.add_messages(messages)\n",
    "    outf.add_records(records)\n",
    "    outf.write('merged_activity.fit')\n"
   ]
  },
  {
   "cell_type": "code",
   "execution_count": 11,
   "metadata": {},
   "outputs": [
    {
     "ename": "FitEOFError",
     "evalue": "Tried to read 12 bytes from .FIT file but got 0",
     "output_type": "error",
     "traceback": [
      "\u001b[0;31m---------------------------------------------------------------------------\u001b[0m",
      "\u001b[0;31mFitEOFError\u001b[0m                               Traceback (most recent call last)",
      "\u001b[0;32m/var/folders/ff/1f98xcwd0fndmrxqb8c42cq40000gn/T/ipykernel_20307/2931365186.py\u001b[0m in \u001b[0;36m<module>\u001b[0;34m\u001b[0m\n\u001b[1;32m     17\u001b[0m \u001b[0;31m# create new output file and write merged data to file\u001b[0m\u001b[0;34m\u001b[0m\u001b[0;34m\u001b[0m\u001b[0;34m\u001b[0m\u001b[0m\n\u001b[1;32m     18\u001b[0m \u001b[0;32mwith\u001b[0m \u001b[0mio\u001b[0m\u001b[0;34m.\u001b[0m\u001b[0mBytesIO\u001b[0m\u001b[0;34m(\u001b[0m\u001b[0;34m)\u001b[0m \u001b[0;32mas\u001b[0m \u001b[0moutf_data\u001b[0m\u001b[0;34m:\u001b[0m\u001b[0;34m\u001b[0m\u001b[0;34m\u001b[0m\u001b[0m\n\u001b[0;32m---> 19\u001b[0;31m     \u001b[0moutf\u001b[0m \u001b[0;34m=\u001b[0m \u001b[0mfitparse\u001b[0m\u001b[0;34m.\u001b[0m\u001b[0mFitFile\u001b[0m\u001b[0;34m(\u001b[0m\u001b[0moutf_data\u001b[0m\u001b[0;34m)\u001b[0m\u001b[0;34m\u001b[0m\u001b[0;34m\u001b[0m\u001b[0m\n\u001b[0m\u001b[1;32m     20\u001b[0m     \u001b[0moutf\u001b[0m\u001b[0;34m.\u001b[0m\u001b[0madd_messages\u001b[0m\u001b[0;34m(\u001b[0m\u001b[0mmessages\u001b[0m\u001b[0;34m)\u001b[0m\u001b[0;34m\u001b[0m\u001b[0;34m\u001b[0m\u001b[0m\n\u001b[1;32m     21\u001b[0m     \u001b[0moutf_bytes\u001b[0m \u001b[0;34m=\u001b[0m \u001b[0moutf\u001b[0m\u001b[0;34m.\u001b[0m\u001b[0mas_bytes\u001b[0m\u001b[0;34m(\u001b[0m\u001b[0;34m)\u001b[0m\u001b[0;34m\u001b[0m\u001b[0;34m\u001b[0m\u001b[0m\n",
      "\u001b[0;32m~/miniforge3/lib/python3.9/site-packages/fitparse/base.py\u001b[0m in \u001b[0;36m__init__\u001b[0;34m(self, fileish, check_crc, data_processor)\u001b[0m\n\u001b[1;32m     34\u001b[0m \u001b[0;34m\u001b[0m\u001b[0m\n\u001b[1;32m     35\u001b[0m         \u001b[0;31m# Start off by parsing the file header (sets initial attribute values)\u001b[0m\u001b[0;34m\u001b[0m\u001b[0;34m\u001b[0m\u001b[0;34m\u001b[0m\u001b[0m\n\u001b[0;32m---> 36\u001b[0;31m         \u001b[0mself\u001b[0m\u001b[0;34m.\u001b[0m\u001b[0m_parse_file_header\u001b[0m\u001b[0;34m(\u001b[0m\u001b[0;34m)\u001b[0m\u001b[0;34m\u001b[0m\u001b[0;34m\u001b[0m\u001b[0m\n\u001b[0m\u001b[1;32m     37\u001b[0m \u001b[0;34m\u001b[0m\u001b[0m\n\u001b[1;32m     38\u001b[0m     \u001b[0;32mdef\u001b[0m \u001b[0m__del__\u001b[0m\u001b[0;34m(\u001b[0m\u001b[0mself\u001b[0m\u001b[0;34m)\u001b[0m\u001b[0;34m:\u001b[0m\u001b[0;34m\u001b[0m\u001b[0;34m\u001b[0m\u001b[0m\n",
      "\u001b[0;32m~/miniforge3/lib/python3.9/site-packages/fitparse/base.py\u001b[0m in \u001b[0;36m_parse_file_header\u001b[0;34m(self)\u001b[0m\n\u001b[1;32m    101\u001b[0m         \u001b[0mself\u001b[0m\u001b[0;34m.\u001b[0m\u001b[0m_local_mesgs\u001b[0m \u001b[0;34m=\u001b[0m \u001b[0;34m{\u001b[0m\u001b[0;34m}\u001b[0m\u001b[0;34m\u001b[0m\u001b[0;34m\u001b[0m\u001b[0m\n\u001b[1;32m    102\u001b[0m \u001b[0;34m\u001b[0m\u001b[0m\n\u001b[0;32m--> 103\u001b[0;31m         \u001b[0mheader_data\u001b[0m \u001b[0;34m=\u001b[0m \u001b[0mself\u001b[0m\u001b[0;34m.\u001b[0m\u001b[0m_read\u001b[0m\u001b[0;34m(\u001b[0m\u001b[0;36m12\u001b[0m\u001b[0;34m)\u001b[0m\u001b[0;34m\u001b[0m\u001b[0;34m\u001b[0m\u001b[0m\n\u001b[0m\u001b[1;32m    104\u001b[0m         \u001b[0;32mif\u001b[0m \u001b[0mheader_data\u001b[0m\u001b[0;34m[\u001b[0m\u001b[0;36m8\u001b[0m\u001b[0;34m:\u001b[0m\u001b[0;36m12\u001b[0m\u001b[0;34m]\u001b[0m \u001b[0;34m!=\u001b[0m \u001b[0;34mb'.FIT'\u001b[0m\u001b[0;34m:\u001b[0m\u001b[0;34m\u001b[0m\u001b[0;34m\u001b[0m\u001b[0m\n\u001b[1;32m    105\u001b[0m             \u001b[0;32mraise\u001b[0m \u001b[0mFitHeaderError\u001b[0m\u001b[0;34m(\u001b[0m\u001b[0;34m\"Invalid .FIT File Header\"\u001b[0m\u001b[0;34m)\u001b[0m\u001b[0;34m\u001b[0m\u001b[0;34m\u001b[0m\u001b[0m\n",
      "\u001b[0;32m~/miniforge3/lib/python3.9/site-packages/fitparse/base.py\u001b[0m in \u001b[0;36m_read\u001b[0;34m(self, size)\u001b[0m\n\u001b[1;32m     58\u001b[0m         \u001b[0mdata\u001b[0m \u001b[0;34m=\u001b[0m \u001b[0mself\u001b[0m\u001b[0;34m.\u001b[0m\u001b[0m_file\u001b[0m\u001b[0;34m.\u001b[0m\u001b[0mread\u001b[0m\u001b[0;34m(\u001b[0m\u001b[0msize\u001b[0m\u001b[0;34m)\u001b[0m\u001b[0;34m\u001b[0m\u001b[0;34m\u001b[0m\u001b[0m\n\u001b[1;32m     59\u001b[0m         \u001b[0;32mif\u001b[0m \u001b[0msize\u001b[0m \u001b[0;34m!=\u001b[0m \u001b[0mlen\u001b[0m\u001b[0;34m(\u001b[0m\u001b[0mdata\u001b[0m\u001b[0;34m)\u001b[0m\u001b[0;34m:\u001b[0m\u001b[0;34m\u001b[0m\u001b[0;34m\u001b[0m\u001b[0m\n\u001b[0;32m---> 60\u001b[0;31m             \u001b[0;32mraise\u001b[0m \u001b[0mFitEOFError\u001b[0m\u001b[0;34m(\u001b[0m\u001b[0;34m\"Tried to read %d bytes from .FIT file but got %d\"\u001b[0m \u001b[0;34m%\u001b[0m \u001b[0;34m(\u001b[0m\u001b[0msize\u001b[0m\u001b[0;34m,\u001b[0m \u001b[0mlen\u001b[0m\u001b[0;34m(\u001b[0m\u001b[0mdata\u001b[0m\u001b[0;34m)\u001b[0m\u001b[0;34m)\u001b[0m\u001b[0;34m)\u001b[0m\u001b[0;34m\u001b[0m\u001b[0;34m\u001b[0m\u001b[0m\n\u001b[0m\u001b[1;32m     61\u001b[0m \u001b[0;34m\u001b[0m\u001b[0m\n\u001b[1;32m     62\u001b[0m         \u001b[0;32mif\u001b[0m \u001b[0mself\u001b[0m\u001b[0;34m.\u001b[0m\u001b[0mcheck_crc\u001b[0m\u001b[0;34m:\u001b[0m\u001b[0;34m\u001b[0m\u001b[0;34m\u001b[0m\u001b[0m\n",
      "\u001b[0;31mFitEOFError\u001b[0m: Tried to read 12 bytes from .FIT file but got 0"
     ]
    }
   ],
   "source": [
    "import fitdecode\n",
    "import fitparse\n",
    "import io\n",
    "\n",
    "# define paths to input files\n",
    "input_file1 = \"./data/Afternoon_Walk1sur2.fit\"\n",
    "input_file2 = \"./data/Afternoon_Walk2sur2.fit\"\n",
    "\n",
    "# read data from input files and append to lists\n",
    "messages = []\n",
    "for fitfile in [input_file1, input_file2]:\n",
    "    with fitdecode.FitReader(fitfile) as fit:\n",
    "        for frame in fit:\n",
    "            if isinstance(frame, fitdecode.FitDataMessage):\n",
    "                messages.append(frame)\n",
    "\n",
    "# create new output file and write merged data to file\n",
    "with io.BytesIO() as outf_data:\n",
    "    outf = fitparse.FitFile(outf_data)\n",
    "    outf.add_messages(messages)\n",
    "    outf_bytes = outf.as_bytes()\n",
    "    \n",
    "with open('merged_activity.fit', 'wb') as outf_file:\n",
    "    outf_file.write(outf_bytes)"
   ]
  },
  {
   "cell_type": "code",
   "execution_count": null,
   "metadata": {},
   "outputs": [],
   "source": []
  },
  {
   "cell_type": "code",
   "execution_count": 2,
   "metadata": {},
   "outputs": [
    {
     "name": "stdout",
     "output_type": "stream",
     "text": [
      "Collecting fitparse\n",
      "  Downloading fitparse-1.2.0.tar.gz (65 kB)\n",
      "\u001b[2K     \u001b[90m━━━━━━━━━━━━━━━━━━━━━━━━━━━━━━━━━━━━━━━━\u001b[0m \u001b[32m65.7/65.7 kB\u001b[0m \u001b[31m1.2 MB/s\u001b[0m eta \u001b[36m0:00:00\u001b[0ma \u001b[36m0:00:01\u001b[0m\n",
      "\u001b[?25h  Preparing metadata (setup.py) ... \u001b[?25ldone\n",
      "\u001b[?25hBuilding wheels for collected packages: fitparse\n",
      "  Building wheel for fitparse (setup.py) ... \u001b[?25ldone\n",
      "\u001b[?25h  Created wheel for fitparse: filename=fitparse-1.2.0-py3-none-any.whl size=68200 sha256=4353c4b1e96febda010da35de9864a55c665b7eec7b6d7d7a0b2edda2dca9cff\n",
      "  Stored in directory: /Users/johnatreides/Library/Caches/pip/wheels/6f/26/02/afa67803140f5cce91d59a98b89bb29b368576060abb91bcb8\n",
      "Successfully built fitparse\n",
      "Installing collected packages: fitparse\n",
      "Successfully installed fitparse-1.2.0\n",
      "Note: you may need to restart the kernel to use updated packages.\n"
     ]
    }
   ],
   "source": [
    "pip install fitparse\n"
   ]
  }
 ],
 "metadata": {
  "kernelspec": {
   "display_name": "Python 3 (ipykernel)",
   "language": "python",
   "name": "python3"
  },
  "language_info": {
   "codemirror_mode": {
    "name": "ipython",
    "version": 3
   },
   "file_extension": ".py",
   "mimetype": "text/x-python",
   "name": "python",
   "nbconvert_exporter": "python",
   "pygments_lexer": "ipython3",
   "version": "3.9.2"
  }
 },
 "nbformat": 4,
 "nbformat_minor": 2
}
